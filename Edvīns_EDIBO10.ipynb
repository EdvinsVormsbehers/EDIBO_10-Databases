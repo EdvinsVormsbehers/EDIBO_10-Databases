{
  "nbformat": 4,
  "nbformat_minor": 0,
  "metadata": {
    "colab": {
      "name": "Edvīns.EDIBO10.ipynb",
      "provenance": [],
      "authorship_tag": "ABX9TyMoF+8sq6PeTk9mGDEnygU2",
      "include_colab_link": true
    },
    "kernelspec": {
      "name": "python3",
      "display_name": "Python 3"
    },
    "language_info": {
      "name": "python"
    }
  },
  "cells": [
    {
      "cell_type": "markdown",
      "metadata": {
        "id": "view-in-github",
        "colab_type": "text"
      },
      "source": [
        "<a href=\"https://colab.research.google.com/github/EdvinsVormsbehers/EDIBO_10-Databases/blob/main/Edv%C4%ABns_EDIBO10.ipynb\" target=\"_parent\"><img src=\"https://colab.research.google.com/assets/colab-badge.svg\" alt=\"Open In Colab\"/></a>"
      ]
    },
    {
      "cell_type": "markdown",
      "metadata": {
        "id": "8twpwXjnaQxA"
      },
      "source": [
        "#**Database chinook.db attaced to testDB**"
      ]
    },
    {
      "cell_type": "markdown",
      "metadata": {
        "id": "aiqZVJ0tTUwh"
      },
      "source": [
        "table schemas"
      ]
    },
    {
      "cell_type": "code",
      "metadata": {
        "id": "S61zxgcDhKtF"
      },
      "source": [
        "testDB.albums          testDB.genres          testDB.playlist_track\n",
        "testDB.artists         testDB.invoice_items   testDB.playlists\n",
        "testDB.customers       testDB.invoices        testDB.tracks\n",
        "testDB.employees       testDB.media_types"
      ],
      "execution_count": null,
      "outputs": []
    },
    {
      "cell_type": "code",
      "metadata": {
        "id": "uR-6Qb5QafSQ"
      },
      "source": [
        "CREATE TABLE testDB.\"albums\"\n",
        "(\n",
        "    [AlbumId] INTEGER PRIMARY KEY AUTOINCREMENT NOT NULL,\n",
        "    [Title] NVARCHAR(160)  NOT NULL,\n",
        "    [ArtistId] INTEGER  NOT NULL,\n",
        "    FOREIGN KEY ([ArtistId]) REFERENCES \"artists\" ([ArtistId])\n",
        "                ON DELETE NO ACTION ON UPDATE NO ACTION\n",
        ");\n",
        "CREATE INDEX testDB.[IFK_AlbumArtistId] ON \"albums\" ([ArtistId]);"
      ],
      "execution_count": null,
      "outputs": []
    },
    {
      "cell_type": "code",
      "metadata": {
        "id": "v7mZ_9kxakP3"
      },
      "source": [
        "CREATE TABLE testDB.\"artists\"\n",
        "(\n",
        "    [ArtistId] INTEGER PRIMARY KEY AUTOINCREMENT NOT NULL,\n",
        "    [Name] NVARCHAR(120)\n",
        ");\n"
      ],
      "execution_count": null,
      "outputs": []
    },
    {
      "cell_type": "code",
      "metadata": {
        "id": "OrOX3alKarxv"
      },
      "source": [
        "CREATE TABLE testDB.\"tracks\"\n",
        "(\n",
        "    [TrackId] INTEGER PRIMARY KEY AUTOINCREMENT NOT NULL,\n",
        "    [Name] NVARCHAR(200)  NOT NULL,\n",
        "    [AlbumId] INTEGER,\n",
        "    [MediaTypeId] INTEGER  NOT NULL,\n",
        "    [GenreId] INTEGER,\n",
        "    [Composer] NVARCHAR(220),\n",
        "    [Milliseconds] INTEGER  NOT NULL,\n",
        "    [Bytes] INTEGER,\n",
        "    [UnitPrice] NUMERIC(10,2)  NOT NULL,\n",
        "    FOREIGN KEY ([AlbumId]) REFERENCES \"albums\" ([AlbumId])\n",
        "                ON DELETE NO ACTION ON UPDATE NO ACTION,\n",
        "    FOREIGN KEY ([GenreId]) REFERENCES \"genres\" ([GenreId])\n",
        "                ON DELETE NO ACTION ON UPDATE NO ACTION,\n",
        "    FOREIGN KEY ([MediaTypeId]) REFERENCES \"media_types\" ([MediaTypeId])\n",
        "                ON DELETE NO ACTION ON UPDATE NO ACTION\n",
        ");\n",
        "CREATE INDEX testDB.[IFK_TrackAlbumId] ON \"tracks\" ([AlbumId]);\n",
        "CREATE INDEX testDB.[IFK_TrackGenreId] ON \"tracks\" ([GenreId]);\n",
        "CREATE INDEX testDB.[IFK_TrackMediaTypeId] ON \"tracks\" ([MediaTypeId]);"
      ],
      "execution_count": null,
      "outputs": []
    },
    {
      "cell_type": "code",
      "metadata": {
        "id": "I9wX85VXcPEf"
      },
      "source": [
        "CREATE TABLE testDB.\"genres\"\n",
        "(\n",
        "    [GenreId] INTEGER PRIMARY KEY AUTOINCREMENT NOT NULL,\n",
        "    [Name] NVARCHAR(120)\n",
        ");"
      ],
      "execution_count": null,
      "outputs": []
    },
    {
      "cell_type": "code",
      "metadata": {
        "id": "U3UAz8LdcZNH"
      },
      "source": [
        "CREATE TABLE testDB.\"media_types\"\n",
        "(\n",
        "    [MediaTypeId] INTEGER PRIMARY KEY AUTOINCREMENT NOT NULL,\n",
        "    [Name] NVARCHAR(120)\n",
        ");"
      ],
      "execution_count": null,
      "outputs": []
    },
    {
      "cell_type": "code",
      "metadata": {
        "id": "FCei4zCldaKe"
      },
      "source": [
        "CREATE TABLE testDB.\"playlists\"\n",
        "(\n",
        "    [PlaylistId] INTEGER PRIMARY KEY AUTOINCREMENT NOT NULL,\n",
        "    [Name] NVARCHAR(120)\n",
        ");"
      ],
      "execution_count": null,
      "outputs": []
    },
    {
      "cell_type": "code",
      "metadata": {
        "id": "pH0UaGI0dtD-"
      },
      "source": [
        "CREATE TABLE testDB.\"playlist_track\"\n",
        "(\n",
        "    [PlaylistId] INTEGER  NOT NULL,\n",
        "    [TrackId] INTEGER  NOT NULL,\n",
        "    CONSTRAINT [PK_PlaylistTrack] PRIMARY KEY  ([PlaylistId], [TrackId]),\n",
        "    FOREIGN KEY ([PlaylistId]) REFERENCES \"playlists\" ([PlaylistId])\n",
        "                ON DELETE NO ACTION ON UPDATE NO ACTION,\n",
        "    FOREIGN KEY ([TrackId]) REFERENCES \"tracks\" ([TrackId])\n",
        "                ON DELETE NO ACTION ON UPDATE NO ACTION\n",
        ");\n",
        "CREATE INDEX testDB.[IFK_PlaylistTrackTrackId] ON \"playlist_track\" ([TrackId]);"
      ],
      "execution_count": null,
      "outputs": []
    },
    {
      "cell_type": "code",
      "metadata": {
        "id": "EwhgN4cjeJ1m"
      },
      "source": [
        "CREATE TABLE testDB.\"invoices\"\n",
        "(\n",
        "    [InvoiceId] INTEGER PRIMARY KEY AUTOINCREMENT NOT NULL,\n",
        "    [CustomerId] INTEGER  NOT NULL,\n",
        "    [InvoiceDate] DATETIME  NOT NULL,\n",
        "    [BillingAddress] NVARCHAR(70),\n",
        "    [BillingCity] NVARCHAR(40),\n",
        "    [BillingState] NVARCHAR(40),\n",
        "    [BillingCountry] NVARCHAR(40),\n",
        "    [BillingPostalCode] NVARCHAR(10),\n",
        "    [Total] NUMERIC(10,2)  NOT NULL,\n",
        "    FOREIGN KEY ([CustomerId]) REFERENCES \"customers\" ([CustomerId])\n",
        "                ON DELETE NO ACTION ON UPDATE NO ACTION\n",
        ");\n",
        "CREATE INDEX testDB.[IFK_InvoiceCustomerId] ON \"invoices\" ([CustomerId]);"
      ],
      "execution_count": null,
      "outputs": []
    },
    {
      "cell_type": "code",
      "metadata": {
        "id": "4o_SI2BjeRzu"
      },
      "source": [
        "CREATE TABLE testDB.\"invoice_items\"\n",
        "(\n",
        "    [InvoiceLineId] INTEGER PRIMARY KEY AUTOINCREMENT NOT NULL,\n",
        "    [InvoiceId] INTEGER  NOT NULL,\n",
        "    [TrackId] INTEGER  NOT NULL,\n",
        "    [UnitPrice] NUMERIC(10,2)  NOT NULL,\n",
        "    [Quantity] INTEGER  NOT NULL,\n",
        "    FOREIGN KEY ([InvoiceId]) REFERENCES \"invoices\" ([InvoiceId])\n",
        "                ON DELETE NO ACTION ON UPDATE NO ACTION,\n",
        "    FOREIGN KEY ([TrackId]) REFERENCES \"tracks\" ([TrackId])\n",
        "                ON DELETE NO ACTION ON UPDATE NO ACTION\n",
        ");\n",
        "CREATE INDEX testDB.[IFK_InvoiceLineInvoiceId] ON \"invoice_items\" ([InvoiceId]);\n",
        "CREATE INDEX testDB.[IFK_InvoiceLineTrackId] ON \"invoice_items\" ([TrackId]);"
      ],
      "execution_count": null,
      "outputs": []
    },
    {
      "cell_type": "code",
      "metadata": {
        "id": "WnFZDTsGebhW"
      },
      "source": [
        "CREATE TABLE testDB.\"customers\"\n",
        "(\n",
        "    [CustomerId] INTEGER PRIMARY KEY AUTOINCREMENT NOT NULL,\n",
        "    [FirstName] NVARCHAR(40)  NOT NULL,\n",
        "    [LastName] NVARCHAR(20)  NOT NULL,\n",
        "    [Company] NVARCHAR(80),\n",
        "    [Address] NVARCHAR(70),\n",
        "    [City] NVARCHAR(40),\n",
        "    [State] NVARCHAR(40),\n",
        "    [Country] NVARCHAR(40),\n",
        "    [PostalCode] NVARCHAR(10),\n",
        "    [Phone] NVARCHAR(24),\n",
        "    [Fax] NVARCHAR(24),\n",
        "    [Email] NVARCHAR(60)  NOT NULL,\n",
        "    [SupportRepId] INTEGER,\n",
        "    FOREIGN KEY ([SupportRepId]) REFERENCES \"employees\" ([EmployeeId])\n",
        "                ON DELETE NO ACTION ON UPDATE NO ACTION\n",
        ");\n",
        "CREATE INDEX testDB.[IFK_CustomerSupportRepId] ON \"customers\" ([SupportRepId]);"
      ],
      "execution_count": null,
      "outputs": []
    },
    {
      "cell_type": "code",
      "metadata": {
        "id": "5v2ABK1YemNW"
      },
      "source": [
        "CREATE TABLE testDB.\"employees\"\n",
        "(\n",
        "    [EmployeeId] INTEGER PRIMARY KEY AUTOINCREMENT NOT NULL,\n",
        "    [LastName] NVARCHAR(20)  NOT NULL,\n",
        "    [FirstName] NVARCHAR(20)  NOT NULL,\n",
        "    [Title] NVARCHAR(30),\n",
        "    [ReportsTo] INTEGER,\n",
        "    [BirthDate] DATETIME,\n",
        "    [HireDate] DATETIME,\n",
        "    [Address] NVARCHAR(70),\n",
        "    [City] NVARCHAR(40),\n",
        "    [State] NVARCHAR(40),\n",
        "    [Country] NVARCHAR(40),\n",
        "    [PostalCode] NVARCHAR(10),\n",
        "    [Phone] NVARCHAR(24),\n",
        "    [Fax] NVARCHAR(24),\n",
        "    [Email] NVARCHAR(60),\n",
        "    FOREIGN KEY ([ReportsTo]) REFERENCES \"employees\" ([EmployeeId])\n",
        "                ON DELETE NO ACTION ON UPDATE NO ACTION\n",
        ");\n",
        "CREATE INDEX testDB.[IFK_EmployeeReportsTo] ON \"employees\" ([ReportsTo]);"
      ],
      "execution_count": null,
      "outputs": []
    }
  ]
}